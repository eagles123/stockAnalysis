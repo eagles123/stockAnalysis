{
 "nbformat": 4,
 "nbformat_minor": 2,
 "metadata": {
  "language_info": {
   "name": "python",
   "codemirror_mode": {
    "name": "ipython",
    "version": 3
   },
   "version": "3.7.4"
  },
  "orig_nbformat": 2,
  "file_extension": ".py",
  "mimetype": "text/x-python",
  "name": "python",
  "npconvert_exporter": "python",
  "pygments_lexer": "ipython3",
  "version": 3
 },
 "cells": [
  {
   "cell_type": "code",
   "execution_count": 13,
   "metadata": {},
   "outputs": [],
   "source": [
    "def complie_data():\n",
    "    with open('sp500tickers.pickle', 'rb') as f:\n",
    "        tickers=pickle.load(f)\n",
    "    main_df = pd.DataFrame()\n",
    "    for count,ticker in enumerate(tickers):\n",
    "        df = pd.read_csv('stock_dfs/{}.csv'.format(ticker))\n",
    "        df.set_index(\"Date\", inplace=True)\n",
    "        df.rename(columns={'Adj Close': ticker},  inplace=True)\n",
    "        df.drop(['Open', 'High', 'Low', 'Close', 'Volume'], 1, inplace=True)\n",
    "        if main_df.empty:\n",
    "            main_df =df\n",
    "        else:\n",
    "            main_df = main_df.join(df,how='outer')\n",
    "        if count % 10 == 0:\n",
    "            print(count)\n",
    "    \n",
    "    main_df.to_csv('sp500_joined_close.csv')\n",
    "#complie_data()\n"
   ]
  },
  {
   "cell_type": "code",
   "execution_count": 22,
   "metadata": {},
   "outputs": [],
   "source": [
    "style.use('ggplot')\n",
    "def visualize_data():\n",
    "    df = pd.read_csv('sp500_joined_close.csv')\n",
    "    # df['S&P500'].plot()\n",
    "    # plt.show()\n",
    "    df_corr = df.corr()\n",
    "    data = df_corr.values\n",
    "    fig = plt.figure()\n",
    "    ax = fig.add_subplot(1,1,1)\n",
    "    heatmap = ax.pcolor(data, cmap=plt.cm.RdYlGn)\n",
    "    fig.colorbar(heatmap)\n",
    "    ax.set_xticks(np.arange(data.shape[0]) +0.5, minor = False)\n",
    "    ax.set_yticks(np.arange(data.shape[1]) +0.5, minor = False)\n",
    "    ax.invert_yaxis()\n",
    "    ax.xaxis.tick_top()\n",
    "\n",
    "    column_labels = df_corr.columns\n",
    "    row_labels = df_corr.index\n",
    "\n",
    "    ax.set_xticklabels(column_labels)\n",
    "    ax.set_yticklabels(row_labels)\n",
    "    plt.xticks(rotation=90)\n",
    "    heatmap.set_clim(-1,1)\n",
    "    plt.tight_layout()\n",
    "    plt.show()\n",
    "\n",
    "#visualize_data()"
   ]
  },
  {
   "cell_type": "code",
   "execution_count": 99,
   "metadata": {},
   "outputs": [
    {
     "name": "stdout",
     "output_type": "stream",
     "text": "1.0\n"
    }
   ],
   "source": [
    "# get data by time range\n",
    "df = pd.read_csv('sp500_joined_close.csv')\n",
    "df['Date'] = pd.to_datetime(df['Date'])\n",
    "start = '6/30/2018'\n",
    "end = '7/30/2018'\n",
    "mask = (df['Date'] > start) & (df['Date'] <= end)\n",
    "df = df.loc[mask]\n",
    "#print(df.head())\n",
    "df_corr = df.corrwith(df['S&P500'])\n",
    "#print(df_corr.loc['ABT',:])\n",
    "print(df_corr['S&P500'])\n",
    "\n"
   ]
  },
  {
   "cell_type": "code",
   "execution_count": null,
   "metadata": {},
   "outputs": [],
   "source": []
  },
  {
   "cell_type": "code",
   "execution_count": 76,
   "metadata": {},
   "outputs": [],
   "source": [
    "import datetime as dt\n",
    "import matplotlib.pyplot as plt\n",
    "from matplotlib import style\n",
    "import pandas as pd\n",
    "import pandas_datareader.data as web\n",
    "from mpl_finance import candlestick_ohlc\n",
    "import matplotlib.dates as mdates\n",
    "import pickle\n",
    "import numpy as np"
   ]
  }
 ]
}